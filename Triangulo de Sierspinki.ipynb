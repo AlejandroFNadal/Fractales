{
 "cells": [
  {
   "cell_type": "markdown",
   "metadata": {},
   "source": [
    "# Triangulo de Sierpinski\n",
    "\n",
    "Tomamos un triangulo equilatero, unimos los puntos medios de los lados. Obtenemos cuatro trinauglos. Sacamos el triangulo central. Repetimos."
   ]
  },
  {
   "cell_type": "markdown",
   "metadata": {},
   "source": [
    "Numero de triangulos en cada iteracion: 1, 3, 9... la cantidad de triangulos pintados es $3^i$\n",
    "\n",
    "El area va a irse reduciendo porque es un proceso de eliminacion. Partimos con un area, en la iteracion i = 0, de la base al cuadrado dividida por dos\n",
    "\n",
    "$$\\frac{b*h}{2}$$\n",
    "\n",
    "Recordando que para este caso, triangulo equilatero, $b=h$, tendremos $$\\frac{b^2}{2}$$\n",
    "\n",
    "En la siguiente iteracion, dividimos el triangulo equilatero en 4 y quitamos una de sus partes. El area remanente es $\\frac{3}{4}$ del area original. En la siguiente, tendremos 16 triangulos y nos quedaremos con 9. El area del triangulo de Sierpinski en la iteracion i es de\n",
    "\n",
    "$$(\\frac{3}{4})^i * \\frac{b^2}{2}$$\n",
    "\n",
    "Mientras i se aproxima al infinito, el area se aproxima al 0."
   ]
  },
  {
   "cell_type": "code",
   "execution_count": 6,
   "metadata": {},
   "outputs": [
    {
     "name": "stdout",
     "output_type": "stream",
     "text": [
      "[ 0  1  2  3  4  5  6  7  8  9 10 11 12 13 14 15 16 17 18 19]\n",
      "[0.5        0.375      0.28125    0.2109375  0.15820312 0.11865234\n",
      " 0.08898926 0.06674194 0.05005646 0.03754234 0.02815676 0.02111757\n",
      " 0.01583818 0.01187863 0.00890897 0.00668173 0.0050113  0.00375847\n",
      " 0.00281886 0.00211414]\n"
     ]
    }
   ],
   "source": [
    "import numpy as np\n",
    "import matplotlib.pyplot as pl\n",
    "\n",
    "x = np.arange(0,20,1)\n",
    "print(x)\n",
    "y = 1/2*((3/4)**x)\n",
    "print(y)"
   ]
  },
  {
   "cell_type": "code",
   "execution_count": 7,
   "metadata": {},
   "outputs": [
    {
     "data": {
      "image/png": "[encoded data removed]",
      "text/plain": [
       "<Figure size 432x288 with 1 Axes>"
      ]
     },
     "metadata": {
      "needs_background": "light"
     },
     "output_type": "display_data"
    }
   ],
   "source": [
    "fig = pl.plot(x,y)"
   ]
  },
  {
   "cell_type": "code",
   "execution_count": null,
   "metadata": {},
   "outputs": [],
   "source": []
  }
 ],
 "metadata": {
  "kernelspec": {
   "display_name": "Python 3",
   "language": "python",
   "name": "python3"
  },
  "language_info": {
   "codemirror_mode": {
    "name": "ipython",
    "version": 3
   },
   "file_extension": ".py",
   "mimetype": "text/x-python",
   "name": "python",
   "nbconvert_exporter": "python",
   "pygments_lexer": "ipython3",
   "version": "3.7.3"
  }
 },
 "nbformat": 4,
 "nbformat_minor": 4
}
